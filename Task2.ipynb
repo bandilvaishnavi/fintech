{
  "nbformat": 4,
  "nbformat_minor": 0,
  "metadata": {
    "colab": {
      "provenance": []
    },
    "kernelspec": {
      "name": "python3",
      "display_name": "Python 3"
    },
    "language_info": {
      "name": "python"
    }
  },
  "cells": [
    {
      "cell_type": "code",
      "execution_count": null,
      "metadata": {
        "id": "XnrHcwceujSL",
        "colab": {
          "base_uri": "https://localhost:8080/"
        },
        "outputId": "86a04fcc-6e2e-4cca-bc3c-44ada34e3db3"
      },
      "outputs": [
        {
          "output_type": "stream",
          "name": "stderr",
          "text": [
            "/usr/local/lib/python3.10/dist-packages/yfinance/base.py:48: FutureWarning: The default dtype for empty Series will be 'object' instead of 'float64' in a future version. Specify a dtype explicitly to silence this warning.\n",
            "  _empty_series = pd.Series()\n"
          ]
        }
      ],
      "source": [
        "import pandas as pd\n",
        "import numpy as np\n",
        "import yfinance as yf\n",
        "import matplotlib.pyplot as plt"
      ]
    },
    {
      "cell_type": "code",
      "source": [
        "def calc_ema(data, window):\n",
        "    return data['Close'].ewm(span=window, adjust=False).mean()"
      ],
      "metadata": {
        "id": "wMJQ4cBQuq0C"
      },
      "execution_count": null,
      "outputs": []
    },
    {
      "cell_type": "code",
      "source": [
        "def calc_rsi(data, window):\n",
        " delta= data.diff()\n",
        " gain= delta.where(delta>0,0)\n",
        " loss= -delta.where(delta<0,0)\n",
        " avg_gain= gain.rolling(window=14).mean()\n",
        " avg_loss= loss.rolling(window=14).mean()\n",
        " rs= avg_gain/avg_loss\n",
        " rsi= 100-(100/(1+rs))\n",
        " return rsi"
      ],
      "metadata": {
        "id": "NuAOcw3ou3M_"
      },
      "execution_count": null,
      "outputs": []
    },
    {
      "cell_type": "code",
      "source": [
        "def generate_signals(data, ema_window, rsi_window, rsi_overbought, rsi_oversold):\n",
        "    signals = pd.DataFrame(index=data.index)\n",
        "    signals['EMA'] = calc_ema(data, ema_window)\n",
        "    signals['RSI'] = calc_rsi(data, rsi_window)\n",
        "    # Generate Signals\n",
        "    signals['signal']= 0\n",
        "    signals['signal'][signals['EMA'] > data['Close']] = 1 #long\n",
        "    signals['signal'][signals['EMA'] < data['Close']] = -1 #short\n",
        "    signals['signal'][(signals['RSI'] > rsi_overbought) & (signals['signal'] == 1)] = 0  # exit long\n",
        "    signals['signal'][(signals['RSI'] < rsi_oversold) & (signals['signal'] == -1)] = 0  # exit short\n",
        "\n",
        "    return signals\n"
      ],
      "metadata": {
        "id": "MuRYQcnOwG-I"
      },
      "execution_count": null,
      "outputs": []
    },
    {
      "cell_type": "code",
      "source": [
        "def backtest_strategy(data, signals, initial_capital=50001, compound=True):\n",
        "    positions = pd.DataFrame(index=data.index)\n",
        "    positions['Position'] = signals['Signal']\n",
        "    positions['Stock'] = 100 * positions['Position']  # Assume 100 shares per trade\n",
        "\n",
        "    # Calculate daily portfolio value\n",
        "    portfolio = positions.multiply(data['Close'], axis=0)\n",
        "    pos_diff = positions.diff()\n",
        "\n",
        "    # Add cash holdings to the portfolio\n",
        "    portfolio['Cash'] = initial_capital - (pos_diff['Stock'] * data['Close']).cumsum()\n",
        "\n",
        "    # Calculate total portfolio value\n",
        "    portfolio['Total'] = portfolio['Stock'] + portfolio['Cash']\n",
        "\n",
        "    # Calculate daily returns\n",
        "    portfolio['Returns'] = portfolio['Total'].pct_change()\n",
        "\n",
        "    if compound:\n",
        "        portfolio['Returns'] = (1 + portfolio['Returns']).cumprod() - 1\n",
        "\n",
        "    return portfolio\n"
      ],
      "metadata": {
        "id": "e0f12HSjyqxv"
      },
      "execution_count": null,
      "outputs": []
    }
  ]
}